{
 "cells": [
  {
   "cell_type": "markdown",
   "metadata": {
    "slideshow": {
     "slide_type": "slide"
    }
   },
   "source": [
    "# NSCM 32"
   ]
  },
  {
   "cell_type": "markdown",
   "metadata": {},
   "source": [
    "Tero Frondelius, Thomas Helfer, Ivan Yashchuk, Joona Vaara, and Anssi Laukkanen"
   ]
  },
  {
   "cell_type": "markdown",
   "metadata": {},
   "source": [
    "1. University of Oulu, firstname.lastname@oulu.fi\n",
    "2. VTT Technical Research Centre of Finland, firstname.lastname@vtt.fi\n",
    "3. Wärtsilä R&D and Engineering, firstname.lastname@wartsila.com \n",
    "4. CEA, DEN, DEC, France, thomas.helfer@cea.fr "
   ]
  },
  {
   "cell_type": "code",
   "execution_count": 1,
   "metadata": {
    "slideshow": {
     "slide_type": "slide"
    }
   },
   "outputs": [],
   "source": [
    "norton = raw\"\"\"\n",
    "@DSL Implicit;\n",
    "@Author Thomas Helfer;\n",
    "@Date 3 / 08 / 2018;\n",
    "@Behaviour Norton;\n",
    "@Description {\n",
    "  \"This file implements the Norton law \"\n",
    "  \"using the StandardElastoViscoplasticity brick\"\n",
    "}\n",
    "\n",
    "@ModellingHypotheses{\".+\"};\n",
    "@Epsilon 1.e-16;\n",
    "\n",
    "@Brick StandardElastoViscoPlasticity{\n",
    "  stress_potential : \"Hooke\" {young_modulus : 150e6, poisson_ratio : 0.3},\n",
    "  inelastic_flow : \"Norton\" {criterion : \"Mises\", A : 8.e-67, n : 8.2, K : 1}\n",
    "};\n",
    "\"\"\";"
   ]
  },
  {
   "cell_type": "code",
   "execution_count": 2,
   "metadata": {
    "slideshow": {
     "slide_type": "slide"
    }
   },
   "outputs": [
    {
     "data": {
      "text/plain": [
       "427"
      ]
     },
     "execution_count": 2,
     "metadata": {},
     "output_type": "execute_result"
    }
   ],
   "source": [
    "mfront_fn = \"norton.mfront\"\n",
    "open(mfront_fn,\"w\") do fil\n",
    "    write(fil,norton)\n",
    "end"
   ]
  },
  {
   "cell_type": "code",
   "execution_count": 3,
   "metadata": {
    "slideshow": {
     "slide_type": "slide"
    }
   },
   "outputs": [
    {
     "data": {
      "text/plain": [
       "\"/usr/local/sbin:/usr/local/bin:/usr/sbin:/usr/bin:/sbin:/bin:/usr/games:/usr/local/games:/snap/bin\""
      ]
     },
     "execution_count": 3,
     "metadata": {},
     "output_type": "execute_result"
    }
   ],
   "source": [
    "cur_dir = pwd()\n",
    "pkg_dir = dirname(Base.find_package(\"MFrontInterface\"))\n",
    "lib_dir = joinpath(pkg_dir,\"..\",\"deps\",\"usr\",\"lib\")\n",
    "home_dir = joinpath(pkg_dir,\"..\",\"deps\",\"usr\")\n",
    "bin_dir = joinpath(pkg_dir,\"..\",\"deps\",\"usr\",\"bin\")\n",
    "cur_path = ENV[\"PATH\"]"
   ]
  },
  {
   "cell_type": "code",
   "execution_count": 4,
   "metadata": {
    "slideshow": {
     "slide_type": "slide"
    }
   },
   "outputs": [
    {
     "data": {
      "text/plain": [
       "639"
      ]
     },
     "execution_count": 4,
     "metadata": {},
     "output_type": "execute_result"
    }
   ],
   "source": [
    "envfil = \"\"\"\n",
    "#!/bin/bash\n",
    "export TFELHOME=$home_dir\n",
    "export MGISHOME=$home_dir\n",
    "export LD_LIBRARY_PATH=$lib_dir\n",
    "export PATH=$bin_dir:$cur_path\n",
    "mfront --install-path=$cur_dir --obuild --interface=generic $mfront_fn\n",
    "patchelf --set-rpath $lib_dir src/libBehaviour.so\n",
    "\"\"\"\n",
    "open(\"build.sh\",\"w\") do fil\n",
    "    write(fil,envfil)\n",
    "end"
   ]
  },
  {
   "cell_type": "code",
   "execution_count": 5,
   "metadata": {
    "slideshow": {
     "slide_type": "slide"
    }
   },
   "outputs": [
    {
     "name": "stdout",
     "output_type": "stream",
     "text": [
      "Treating target : all\n",
      "The following library has been built :\n",
      "- libBehaviour.so :  Norton_AxisymmetricalGeneralisedPlaneStrain Norton_AxisymmetricalGeneralisedPlaneStress Norton_Axisymmetrical Norton_PlaneStress Norton_PlaneStrain Norton_GeneralisedPlaneStrain Norton_Tridimensional\n"
     ]
    },
    {
     "data": {
      "text/plain": [
       "Process(`\u001b[4m./build.sh\u001b[24m`, ProcessExited(0))"
      ]
     },
     "execution_count": 5,
     "metadata": {},
     "output_type": "execute_result"
    }
   ],
   "source": [
    "chmod(\"build.sh\",0o777)\n",
    "run(`./build.sh`)"
   ]
  },
  {
   "cell_type": "code",
   "execution_count": 6,
   "metadata": {
    "slideshow": {
     "slide_type": "slide"
    }
   },
   "outputs": [
    {
     "data": {
      "text/plain": [
       "MFrontInterface.behaviour"
      ]
     },
     "execution_count": 6,
     "metadata": {},
     "output_type": "execute_result"
    }
   ],
   "source": [
    "using MFrontInterface, FEMMaterials, PyPlot\n",
    "mgis_bv = MFrontInterface.behaviour"
   ]
  },
  {
   "cell_type": "code",
   "execution_count": 7,
   "metadata": {
    "slideshow": {
     "slide_type": "slide"
    }
   },
   "outputs": [
    {
     "data": {
      "text/plain": [
       "MFrontMaterialFunction (generic function with 1 method)"
      ]
     },
     "execution_count": 7,
     "metadata": {},
     "output_type": "execute_result"
    }
   ],
   "source": [
    "function MFrontMaterialFunction()\n",
    "    lib_path = \"src/libBehaviour.so\"\n",
    "    behaviour_name = \"Norton\"\n",
    "    hypothesis = mgis_bv.Tridimensional\n",
    "\n",
    "    behaviour = load(lib_path, behaviour_name, hypothesis)\n",
    "    behaviour_data = BehaviourData(behaviour)\n",
    "\n",
    "    ext_variable_names = [mgis_bv.get_name(mgis_bv.get_external_state_variables(behaviour)[i]) for i in 1:mgis_bv.length(mgis_bv.get_external_state_variables(behaviour))]\n",
    "    ext_variable_values = zeros(length(ext_variable_names))\n",
    "    ext_vatiable_state = MFrontExternalVariableState(names=ext_variable_names, values=ext_variable_values)\n",
    "\n",
    "    return MFrontMaterial(behaviour=behaviour, behaviour_data=behaviour_data, external_variables=ext_vatiable_state)\n",
    "end"
   ]
  },
  {
   "cell_type": "code",
   "execution_count": 8,
   "metadata": {
    "slideshow": {
     "slide_type": "slide"
    }
   },
   "outputs": [
    {
     "data": {
      "text/plain": [
       "100-element Array{Array{Float64,1},1}:\n",
       " [0.0, -0.0, -0.0, 0.0, 0.0, 0.0]                                                      \n",
       " [5.172413793103449e-8, -2.5862068965517245e-8, -2.5862068965517245e-8, 0.0, 0.0, 0.0] \n",
       " [1.0344827586206898e-7, -5.172413793103449e-8, -5.172413793103449e-8, 0.0, 0.0, 0.0]  \n",
       " [1.5517241379310344e-7, -7.758620689655172e-8, -7.758620689655172e-8, 0.0, 0.0, 0.0]  \n",
       " [2.0689655172413796e-7, -1.0344827586206898e-7, -1.0344827586206898e-7, 0.0, 0.0, 0.0]\n",
       " [2.5862068965517245e-7, -1.2931034482758622e-7, -1.2931034482758622e-7, 0.0, 0.0, 0.0]\n",
       " [3.103448275862069e-7, -1.5517241379310344e-7, -1.5517241379310344e-7, 0.0, 0.0, 0.0] \n",
       " [3.6206896551724143e-7, -1.8103448275862071e-7, -1.8103448275862071e-7, 0.0, 0.0, 0.0]\n",
       " [4.137931034482759e-7, -2.0689655172413796e-7, -2.0689655172413796e-7, 0.0, 0.0, 0.0] \n",
       " [4.655172413793103e-7, -2.3275862068965515e-7, -2.3275862068965515e-7, 0.0, 0.0, 0.0] \n",
       " [5.172413793103449e-7, -2.5862068965517245e-7, -2.5862068965517245e-7, 0.0, 0.0, 0.0] \n",
       " [5.689655172413793e-7, -2.8448275862068967e-7, -2.8448275862068967e-7, 0.0, 0.0, 0.0] \n",
       " [6.206896551724138e-7, -3.103448275862069e-7, -3.103448275862069e-7, 0.0, 0.0, 0.0]   \n",
       " ⋮                                                                                     \n",
       " [1.7307692307692308e-6, -8.653846153846154e-7, -8.653846153846154e-7, 0.0, 0.0, 0.0]  \n",
       " [1.8461538461538465e-6, -9.230769230769232e-7, -9.230769230769232e-7, 0.0, 0.0, 0.0]  \n",
       " [1.9615384615384617e-6, -9.807692307692308e-7, -9.807692307692308e-7, 0.0, 0.0, 0.0]  \n",
       " [2.076923076923077e-6, -1.0384615384615384e-6, -1.0384615384615384e-6, 0.0, 0.0, 0.0] \n",
       " [2.1923076923076925e-6, -1.0961538461538462e-6, -1.0961538461538462e-6, 0.0, 0.0, 0.0]\n",
       " [2.307692307692308e-6, -1.153846153846154e-6, -1.153846153846154e-6, 0.0, 0.0, 0.0]   \n",
       " [2.423076923076923e-6, -1.2115384615384614e-6, -1.2115384615384614e-6, 0.0, 0.0, 0.0] \n",
       " [2.5384615384615385e-6, -1.2692307692307692e-6, -1.2692307692307692e-6, 0.0, 0.0, 0.0]\n",
       " [2.653846153846154e-6, -1.326923076923077e-6, -1.326923076923077e-6, 0.0, 0.0, 0.0]   \n",
       " [2.7692307692307693e-6, -1.3846153846153846e-6, -1.3846153846153846e-6, 0.0, 0.0, 0.0]\n",
       " [2.884615384615385e-6, -1.4423076923076924e-6, -1.4423076923076924e-6, 0.0, 0.0, 0.0] \n",
       " [3.0e-6, -1.5e-6, -1.5e-6, 0.0, 0.0, 0.0]                                             "
      ]
     },
     "execution_count": 8,
     "metadata": {},
     "output_type": "execute_result"
    }
   ],
   "source": [
    "e11 = 0.0001*vcat(Array(range(0, stop=1.5e-2, length=30)), Array(range(1.5e-2, stop=-1.5e-2, length=30)), Array(range(-1.5e-2, stop=3e-2, length=40)))\n",
    "e22 = -e11/2\n",
    "e33 = e22\n",
    "strains = [[e11[i], e22[i], e33[i], 0.0, 0.0, 0.0] for i in 1:100]"
   ]
  },
  {
   "cell_type": "code",
   "execution_count": 9,
   "metadata": {
    "slideshow": {
     "slide_type": "slide"
    }
   },
   "outputs": [
    {
     "data": {
      "image/png": "[encoded data removed]",
      "text/plain": [
       "Figure(PyObject <Figure size 640x480 with 1 Axes>)"
      ]
     },
     "metadata": {},
     "output_type": "display_data"
    }
   ],
   "source": [
    "PyPlot.plot(strains)\n",
    "PyPlot.xlabel(\"Time step\")\n",
    "PyPlot.ylabel(\"Strain\")\n",
    "PyPlot.grid()\n",
    "PyPlot.show()"
   ]
  },
  {
   "cell_type": "code",
   "execution_count": 10,
   "metadata": {
    "slideshow": {
     "slide_type": "slide"
    }
   },
   "outputs": [],
   "source": [
    "mat = MFrontMaterialFunction()\n",
    "sim = Simulator(mat)\n",
    "ts = 0.01:0.01:1.0\n",
    "FEMMaterials.initialize!(sim, strains, ts)\n",
    "FEMMaterials.run!(sim)"
   ]
  },
  {
   "cell_type": "code",
   "execution_count": null,
   "metadata": {
    "slideshow": {
     "slide_type": "skip"
    }
   },
   "outputs": [],
   "source": [
    "s11 = []; str11 = []\n",
    "for (stre, stra) in zip(sim.stresses,sim.strains)\n",
    "    push!(s11,stre[1])\n",
    "    push!(str11,stra[1])\n",
    "end"
   ]
  },
  {
   "cell_type": "code",
   "execution_count": 11,
   "metadata": {
    "slideshow": {
     "slide_type": "slide"
    }
   },
   "outputs": [
    {
     "data": {
      "image/png": "[encoded data removed]",
      "text/plain": [
       "Figure(PyObject <Figure size 640x480 with 1 Axes>)"
      ]
     },
     "metadata": {},
     "output_type": "display_data"
    }
   ],
   "source": [
    "PyPlot.plot(ts,sim.stresses)\n",
    "PyPlot.xlabel(\"Time\")\n",
    "PyPlot.ylabel(\"Stresses\")\n",
    "PyPlot.show()"
   ]
  },
  {
   "cell_type": "code",
   "execution_count": 12,
   "metadata": {
    "slideshow": {
     "slide_type": "slide"
    }
   },
   "outputs": [
    {
     "data": {
      "text/plain": [
       "\"plastic_beam.inp\""
      ]
     },
     "execution_count": 12,
     "metadata": {},
     "output_type": "execute_result"
    }
   ],
   "source": [
    "download(\"https://raw.githubusercontent.com/JuliaFEM/FEMMaterials.jl/master/examples/data_3dbeam/plastic_beam.inp\", \"plastic_beam.inp\")"
   ]
  },
  {
   "cell_type": "code",
   "execution_count": 13,
   "metadata": {},
   "outputs": [],
   "source": [
    "using JuliaFEM, Materials, FEMBase;\n",
    "import FEMMaterials: Continuum3D, MecaMatSo"
   ]
  },
  {
   "cell_type": "code",
   "execution_count": 14,
   "metadata": {
    "slideshow": {
     "slide_type": "slide"
    }
   },
   "outputs": [
    {
     "name": "stderr",
     "output_type": "stream",
     "text": [
      "┌ Warning: Unknown section: 'HEADING'\n",
      "└ @ AbaqusReader /home/tero/.julia/packages/AbaqusReader/sDEH0/src/parse_mesh.jl:264\n",
      "┌ Info: 189 nodes found\n",
      "└ @ AbaqusReader /home/tero/.julia/packages/AbaqusReader/sDEH0/src/parse_mesh.jl:103\n",
      "┌ Info: Parsing elements. Type: C3D8. Topology: Hex8\n",
      "└ @ AbaqusReader /home/tero/.julia/packages/AbaqusReader/sDEH0/src/parse_mesh.jl:147\n",
      "┌ Info: Adding elset: Body1\n",
      "└ @ AbaqusReader /home/tero/.julia/packages/AbaqusReader/sDEH0/src/parse_mesh.jl:82\n",
      "┌ Info: Creating nset BC1\n",
      "└ @ AbaqusReader /home/tero/.julia/packages/AbaqusReader/sDEH0/src/parse_mesh.jl:181\n",
      "┌ Info: Creating nset BC2\n",
      "└ @ AbaqusReader /home/tero/.julia/packages/AbaqusReader/sDEH0/src/parse_mesh.jl:181\n",
      "┌ Warning: Unknown section: 'SOLID SECTION'\n",
      "└ @ AbaqusReader /home/tero/.julia/packages/AbaqusReader/sDEH0/src/parse_mesh.jl:264\n",
      "┌ Info: Creating nset BC1\n",
      "└ @ AbaqusReader /home/tero/.julia/packages/AbaqusReader/sDEH0/src/parse_mesh.jl:181\n",
      "┌ Info: Creating nset BC2\n",
      "└ @ AbaqusReader /home/tero/.julia/packages/AbaqusReader/sDEH0/src/parse_mesh.jl:181\n",
      "┌ Warning: Unknown section: 'BOUNDARY'\n",
      "└ @ AbaqusReader /home/tero/.julia/packages/AbaqusReader/sDEH0/src/parse_mesh.jl:264\n",
      "┌ Warning: Unknown section: 'STEP'\n",
      "└ @ AbaqusReader /home/tero/.julia/packages/AbaqusReader/sDEH0/src/parse_mesh.jl:264\n",
      "┌ Warning: Unknown section: 'STATIC'\n",
      "└ @ AbaqusReader /home/tero/.julia/packages/AbaqusReader/sDEH0/src/parse_mesh.jl:264\n",
      "┌ Warning: Unknown section: 'DSLOAD'\n",
      "└ @ AbaqusReader /home/tero/.julia/packages/AbaqusReader/sDEH0/src/parse_mesh.jl:264\n",
      "┌ Warning: Unknown section: 'OUTPUT'\n",
      "└ @ AbaqusReader /home/tero/.julia/packages/AbaqusReader/sDEH0/src/parse_mesh.jl:264\n",
      "┌ Warning: Unknown section: 'NODE FILE'\n",
      "└ @ AbaqusReader /home/tero/.julia/packages/AbaqusReader/sDEH0/src/parse_mesh.jl:264\n",
      "┌ Warning: Unknown section: 'RESTART'\n",
      "└ @ AbaqusReader /home/tero/.julia/packages/AbaqusReader/sDEH0/src/parse_mesh.jl:264\n",
      "┌ Warning: Unknown section: 'END STEP'\n",
      "└ @ AbaqusReader /home/tero/.julia/packages/AbaqusReader/sDEH0/src/parse_mesh.jl:264\n",
      "┌ Info: Created 80 elements (80 x Hex8) from element set: Body1.\n",
      "└ @ JuliaFEM /home/tero/.julia/packages/JuliaFEM/DbhTT/src/preprocess.jl:244\n",
      "┌ Info: Updating field `geometry` for 3 elements.\n",
      "└ @ FEMBase /home/tero/.julia/packages/FEMBase/sO4aw/src/elements.jl:323\n",
      "┌ Info: Updating field `geometry` for 3 elements.\n",
      "└ @ FEMBase /home/tero/.julia/packages/FEMBase/sO4aw/src/elements.jl:323\n",
      "┌ Info: Updating field `geometry` for 40 elements.\n",
      "└ @ FEMBase /home/tero/.julia/packages/FEMBase/sO4aw/src/elements.jl:323\n"
     ]
    }
   ],
   "source": [
    "mesh = abaqus_read_mesh(\"plastic_beam.inp\");\n",
    "beam_elements = create_elements(mesh, \"Body1\");\n",
    "bc_elements_1 = create_nodal_elements(mesh, \"BC1\");\n",
    "bc_elements_2 = create_nodal_elements(mesh, \"BC2\");\n",
    "trac_elements = create_surface_elements(mesh, \"PRESSURE\");"
   ]
  },
  {
   "cell_type": "code",
   "execution_count": 15,
   "metadata": {
    "slideshow": {
     "slide_type": "slide"
    }
   },
   "outputs": [
    {
     "name": "stderr",
     "output_type": "stream",
     "text": [
      "┌ Info: Updating field `displacement 1` => 0.0 for 3 elements.\n",
      "└ @ FEMBase /home/tero/.julia/packages/FEMBase/sO4aw/src/elements.jl:328\n",
      "┌ Info: Updating field `displacement 2` => 0.0 for 3 elements.\n",
      "└ @ FEMBase /home/tero/.julia/packages/FEMBase/sO4aw/src/elements.jl:328\n",
      "┌ Info: Updating field `displacement 3` => 0.0 for 3 elements.\n",
      "└ @ FEMBase /home/tero/.julia/packages/FEMBase/sO4aw/src/elements.jl:328\n",
      "┌ Info: Updating field `displacement 1` => 0.0 for 3 elements.\n",
      "└ @ FEMBase /home/tero/.julia/packages/FEMBase/sO4aw/src/elements.jl:328\n",
      "┌ Info: Updating field `displacement 2` => 0.0 for 3 elements.\n",
      "└ @ FEMBase /home/tero/.julia/packages/FEMBase/sO4aw/src/elements.jl:328\n",
      "┌ Info: Updating field `surface pressure` for 40 elements.\n",
      "└ @ FEMBase /home/tero/.julia/packages/FEMBase/sO4aw/src/elements.jl:323\n",
      "┌ Info: Updating field `surface pressure` for 40 elements.\n",
      "└ @ FEMBase /home/tero/.julia/packages/FEMBase/sO4aw/src/elements.jl:323\n",
      "┌ Info: Creating a new problem of type Elasticity, having name `traction` and dimension 3 dofs/node.\n",
      "└ @ FEMBase /home/tero/.julia/packages/FEMBase/sO4aw/src/problems.jl:136\n",
      "┌ Info: Creating a new boundary problem of type Dirichlet, having name `fix displacement` and dimension 3 dofs/node. This boundary problems fixes field `displacement`.\n",
      "└ @ FEMBase /home/tero/.julia/packages/FEMBase/sO4aw/src/problems.jl:173\n",
      "┌ Info: Adding 40 elements to problem `traction`\n",
      "└ @ FEMBase /home/tero/.julia/packages/FEMBase/sO4aw/src/problems.jl:382\n",
      "┌ Info: Adding 3 elements to problem `fix displacement`\n",
      "└ @ FEMBase /home/tero/.julia/packages/FEMBase/sO4aw/src/problems.jl:382\n",
      "┌ Info: Adding 3 elements to problem `fix displacement`\n",
      "└ @ FEMBase /home/tero/.julia/packages/FEMBase/sO4aw/src/problems.jl:382\n"
     ]
    }
   ],
   "source": [
    "for j in 1:3\n",
    "    update!(bc_elements_1, \"displacement $j\", 0.0)\n",
    "end\n",
    "update!(bc_elements_2, \"displacement 1\", 0.0)\n",
    "update!(bc_elements_2, \"displacement 2\", 0.0)\n",
    "update!(trac_elements, \"surface pressure\", 0.0 => 0.00)\n",
    "update!(trac_elements, \"surface pressure\", 1.0 => 2.70e-4)\n",
    "trac = Problem(Elasticity, \"traction\", 3)\n",
    "bc = Problem(Dirichlet, \"fix displacement\", 3, \"displacement\")\n",
    "add_elements!(trac, trac_elements)\n",
    "add_elements!(bc, bc_elements_1)\n",
    "add_elements!(bc, bc_elements_2)"
   ]
  },
  {
   "cell_type": "code",
   "execution_count": null,
   "metadata": {
    "slideshow": {
     "slide_type": "skip"
    }
   },
   "outputs": [],
   "source": [
    "# These are IdealPlastic (Materials.jl) model parameters\n",
    "update!(beam_elements, \"youngs_modulus\", 200.0e3)\n",
    "update!(beam_elements, \"poissons_ratio\", 0.3)\n",
    "update!(beam_elements, \"yield_stress\", 100.0)"
   ]
  },
  {
   "cell_type": "code",
   "execution_count": 16,
   "metadata": {
    "slideshow": {
     "slide_type": "slide"
    }
   },
   "outputs": [
    {
     "name": "stderr",
     "output_type": "stream",
     "text": [
      "┌ Info: Creating a new problem of type Continuum3D, having name `plastic beam` and dimension 3 dofs/node.\n",
      "└ @ FEMBase /home/tero/.julia/packages/FEMBase/sO4aw/src/problems.jl:136\n",
      "┌ Info: Adding 80 elements to problem `plastic beam`\n",
      "└ @ FEMBase /home/tero/.julia/packages/FEMBase/sO4aw/src/problems.jl:382\n"
     ]
    }
   ],
   "source": [
    "beam = Problem(Continuum3D, \"plastic beam\", 3)\n",
    "beam.properties.material_model = :(Main.MFrontMaterialFunction) #:IdealPlastic #\n",
    "add_elements!(beam, beam_elements)"
   ]
  },
  {
   "cell_type": "code",
   "execution_count": 17,
   "metadata": {
    "slideshow": {
     "slide_type": "slide"
    }
   },
   "outputs": [
    {
     "name": "stderr",
     "output_type": "stream",
     "text": [
      "┌ Info: Creating a new analysis of type MecaMatSo with name `solve problem`.\n",
      "└ @ FEMBase /home/tero/.julia/packages/FEMBase/sO4aw/src/analysis.jl:30\n",
      "┌ Info: Updating field `external_variables` for 80 elements.\n",
      "└ @ FEMBase /home/tero/.julia/packages/FEMBase/sO4aw/src/elements.jl:323\n"
     ]
    }
   ],
   "source": [
    "analysis = Analysis(MecaMatSo, \"solve problem\")\n",
    "analysis.properties.max_iterations = 50\n",
    "analysis.properties.t0 = 0.0\n",
    "analysis.properties.t1 = 1.0\n",
    "analysis.properties.dt = 0.05\n",
    "temperature = 293.15\n",
    "update!(beam_elements, \"external_variables\", [temperature])"
   ]
  },
  {
   "cell_type": "code",
   "execution_count": 18,
   "metadata": {
    "slideshow": {
     "slide_type": "slide"
    }
   },
   "outputs": [],
   "source": [
    "xdmf = Xdmf(\"3dbeam_results_output\"; overwrite=true)\n",
    "add_results_writer!(analysis, xdmf)"
   ]
  },
  {
   "cell_type": "code",
   "execution_count": 19,
   "metadata": {
    "scrolled": true,
    "slideshow": {
     "slide_type": "slide"
    }
   },
   "outputs": [
    {
     "name": "stderr",
     "output_type": "stream",
     "text": [
      "┌ Info: Adding problem `plastic beam` to analysis `solve problem`.\n",
      "└ @ FEMBase /home/tero/.julia/packages/FEMBase/sO4aw/src/analysis.jl:36\n",
      "┌ Info: Adding problem `traction` to analysis `solve problem`.\n",
      "└ @ FEMBase /home/tero/.julia/packages/FEMBase/sO4aw/src/analysis.jl:36\n",
      "┌ Info: Adding problem `fix displacement` to analysis `solve problem`.\n",
      "└ @ FEMBase /home/tero/.julia/packages/FEMBase/sO4aw/src/analysis.jl:36\n",
      "┌ Info: Solving for time 0.05, iteration # 1\n",
      "└ @ FEMMaterials /home/tero/.julia/packages/FEMMaterials/lDZpI/src/mecamatso.jl:333\n",
      "┌ Info: Inf\n",
      "└ @ FEMMaterials /home/tero/.julia/packages/FEMMaterials/lDZpI/src/mecamatso.jl:379\n",
      "┌ Info: Solving for time 0.05, iteration # 2\n",
      "└ @ FEMMaterials /home/tero/.julia/packages/FEMMaterials/lDZpI/src/mecamatso.jl:333\n",
      "┌ Info: 1.8839038450895205e-21\n",
      "└ @ FEMMaterials /home/tero/.julia/packages/FEMMaterials/lDZpI/src/mecamatso.jl:379\n",
      "┌ Info: Solution converged in 2 iterations.\n",
      "└ @ FEMMaterials /home/tero/.julia/packages/FEMMaterials/lDZpI/src/mecamatso.jl:381\n",
      "┌ Info: Solving for time 0.1, iteration # 1\n",
      "└ @ FEMMaterials /home/tero/.julia/packages/FEMMaterials/lDZpI/src/mecamatso.jl:333\n",
      "┌ Info: Inf\n",
      "└ @ FEMMaterials /home/tero/.julia/packages/FEMMaterials/lDZpI/src/mecamatso.jl:379\n",
      "┌ Info: Solving for time 0.1, iteration # 2\n",
      "└ @ FEMMaterials /home/tero/.julia/packages/FEMMaterials/lDZpI/src/mecamatso.jl:333\n",
      "┌ Info: 1.2407709188295415e-24\n",
      "└ @ FEMMaterials /home/tero/.julia/packages/FEMMaterials/lDZpI/src/mecamatso.jl:379\n",
      "┌ Info: Solution converged in 2 iterations.\n",
      "└ @ FEMMaterials /home/tero/.julia/packages/FEMMaterials/lDZpI/src/mecamatso.jl:381\n",
      "┌ Info: Solving for time 0.15, iteration # 1\n",
      "└ @ FEMMaterials /home/tero/.julia/packages/FEMMaterials/lDZpI/src/mecamatso.jl:333\n",
      "┌ Info: Inf\n",
      "└ @ FEMMaterials /home/tero/.julia/packages/FEMMaterials/lDZpI/src/mecamatso.jl:379\n",
      "┌ Info: Solving for time 0.15, iteration # 2\n",
      "└ @ FEMMaterials /home/tero/.julia/packages/FEMMaterials/lDZpI/src/mecamatso.jl:333\n",
      "┌ Info: 1.882663074170691e-21\n",
      "└ @ FEMMaterials /home/tero/.julia/packages/FEMMaterials/lDZpI/src/mecamatso.jl:379\n",
      "┌ Info: Solution converged in 2 iterations.\n",
      "└ @ FEMMaterials /home/tero/.julia/packages/FEMMaterials/lDZpI/src/mecamatso.jl:381\n",
      "┌ Info: Solving for time 0.2, iteration # 1\n",
      "└ @ FEMMaterials /home/tero/.julia/packages/FEMMaterials/lDZpI/src/mecamatso.jl:333\n",
      "┌ Info: Inf\n",
      "└ @ FEMMaterials /home/tero/.julia/packages/FEMMaterials/lDZpI/src/mecamatso.jl:379\n",
      "┌ Info: Solving for time 0.2, iteration # 2\n",
      "└ @ FEMMaterials /home/tero/.julia/packages/FEMMaterials/lDZpI/src/mecamatso.jl:333\n",
      "┌ Info: 8.271806125530277e-25\n",
      "└ @ FEMMaterials /home/tero/.julia/packages/FEMMaterials/lDZpI/src/mecamatso.jl:379\n",
      "┌ Info: Solution converged in 2 iterations.\n",
      "└ @ FEMMaterials /home/tero/.julia/packages/FEMMaterials/lDZpI/src/mecamatso.jl:381\n",
      "┌ Info: Solving for time 0.25, iteration # 1\n",
      "└ @ FEMMaterials /home/tero/.julia/packages/FEMMaterials/lDZpI/src/mecamatso.jl:333\n",
      "┌ Info: Inf\n",
      "└ @ FEMMaterials /home/tero/.julia/packages/FEMMaterials/lDZpI/src/mecamatso.jl:379\n",
      "┌ Info: Solving for time 0.25, iteration # 2\n",
      "└ @ FEMMaterials /home/tero/.julia/packages/FEMMaterials/lDZpI/src/mecamatso.jl:333\n",
      "┌ Info: 1.8892805190711152e-21\n",
      "└ @ FEMMaterials /home/tero/.julia/packages/FEMMaterials/lDZpI/src/mecamatso.jl:379\n",
      "┌ Info: Solution converged in 2 iterations.\n",
      "└ @ FEMMaterials /home/tero/.julia/packages/FEMMaterials/lDZpI/src/mecamatso.jl:381\n",
      "┌ Info: Solving for time 0.3, iteration # 1\n",
      "└ @ FEMMaterials /home/tero/.julia/packages/FEMMaterials/lDZpI/src/mecamatso.jl:333\n",
      "┌ Info: Inf\n",
      "└ @ FEMMaterials /home/tero/.julia/packages/FEMMaterials/lDZpI/src/mecamatso.jl:379\n",
      "┌ Info: Solving for time 0.3, iteration # 2\n",
      "└ @ FEMMaterials /home/tero/.julia/packages/FEMMaterials/lDZpI/src/mecamatso.jl:333\n",
      "┌ Info: 7.444625512977249e-24\n",
      "└ @ FEMMaterials /home/tero/.julia/packages/FEMMaterials/lDZpI/src/mecamatso.jl:379\n",
      "┌ Info: Solution converged in 2 iterations.\n",
      "└ @ FEMMaterials /home/tero/.julia/packages/FEMMaterials/lDZpI/src/mecamatso.jl:381\n",
      "┌ Info: Solving for time 0.35, iteration # 1\n",
      "└ @ FEMMaterials /home/tero/.julia/packages/FEMMaterials/lDZpI/src/mecamatso.jl:333\n",
      "┌ Info: Inf\n",
      "└ @ FEMMaterials /home/tero/.julia/packages/FEMMaterials/lDZpI/src/mecamatso.jl:379\n",
      "┌ Info: Solving for time 0.35, iteration # 2\n",
      "└ @ FEMMaterials /home/tero/.julia/packages/FEMMaterials/lDZpI/src/mecamatso.jl:333\n",
      "┌ Info: 1.8847310257020736e-21\n",
      "└ @ FEMMaterials /home/tero/.julia/packages/FEMMaterials/lDZpI/src/mecamatso.jl:379\n",
      "┌ Info: Solution converged in 2 iterations.\n",
      "└ @ FEMMaterials /home/tero/.julia/packages/FEMMaterials/lDZpI/src/mecamatso.jl:381\n",
      "┌ Info: Solving for time 0.4, iteration # 1\n",
      "└ @ FEMMaterials /home/tero/.julia/packages/FEMMaterials/lDZpI/src/mecamatso.jl:333\n",
      "┌ Info: Inf\n",
      "└ @ FEMMaterials /home/tero/.julia/packages/FEMMaterials/lDZpI/src/mecamatso.jl:379\n",
      "┌ Info: Solving for time 0.4, iteration # 2\n",
      "└ @ FEMMaterials /home/tero/.julia/packages/FEMMaterials/lDZpI/src/mecamatso.jl:333\n",
      "┌ Info: 1.0339757656912846e-23\n",
      "└ @ FEMMaterials /home/tero/.julia/packages/FEMMaterials/lDZpI/src/mecamatso.jl:379\n",
      "┌ Info: Solution converged in 2 iterations.\n",
      "└ @ FEMMaterials /home/tero/.julia/packages/FEMMaterials/lDZpI/src/mecamatso.jl:381\n",
      "┌ Info: Solving for time 0.45, iteration # 1\n",
      "└ @ FEMMaterials /home/tero/.julia/packages/FEMMaterials/lDZpI/src/mecamatso.jl:333\n",
      "┌ Info: Inf\n",
      "└ @ FEMMaterials /home/tero/.julia/packages/FEMMaterials/lDZpI/src/mecamatso.jl:379\n",
      "┌ Info: Solving for time 0.45, iteration # 2\n",
      "└ @ FEMMaterials /home/tero/.julia/packages/FEMMaterials/lDZpI/src/mecamatso.jl:333\n",
      "┌ Info: 1.8669466425321835e-21\n",
      "└ @ FEMMaterials /home/tero/.julia/packages/FEMMaterials/lDZpI/src/mecamatso.jl:379\n",
      "┌ Info: Solution converged in 2 iterations.\n",
      "└ @ FEMMaterials /home/tero/.julia/packages/FEMMaterials/lDZpI/src/mecamatso.jl:381\n",
      "┌ Info: Solving for time 0.5, iteration # 1\n",
      "└ @ FEMMaterials /home/tero/.julia/packages/FEMMaterials/lDZpI/src/mecamatso.jl:333\n",
      "┌ Info: Inf\n",
      "└ @ FEMMaterials /home/tero/.julia/packages/FEMMaterials/lDZpI/src/mecamatso.jl:379\n",
      "┌ Info: Solving for time 0.5, iteration # 2\n",
      "└ @ FEMMaterials /home/tero/.julia/packages/FEMMaterials/lDZpI/src/mecamatso.jl:333\n",
      "┌ Info: 2.1093105620102206e-23\n",
      "└ @ FEMMaterials /home/tero/.julia/packages/FEMMaterials/lDZpI/src/mecamatso.jl:379\n",
      "┌ Info: Solution converged in 2 iterations.\n",
      "└ @ FEMMaterials /home/tero/.julia/packages/FEMMaterials/lDZpI/src/mecamatso.jl:381\n",
      "┌ Info: Solving for time 0.55, iteration # 1\n",
      "└ @ FEMMaterials /home/tero/.julia/packages/FEMMaterials/lDZpI/src/mecamatso.jl:333\n",
      "┌ Info: Inf\n",
      "└ @ FEMMaterials /home/tero/.julia/packages/FEMMaterials/lDZpI/src/mecamatso.jl:379\n",
      "┌ Info: Solving for time 0.55, iteration # 2\n",
      "└ @ FEMMaterials /home/tero/.julia/packages/FEMMaterials/lDZpI/src/mecamatso.jl:333\n",
      "┌ Info: 1.8607427879380358e-21\n",
      "└ @ FEMMaterials /home/tero/.julia/packages/FEMMaterials/lDZpI/src/mecamatso.jl:379\n",
      "┌ Info: Solution converged in 2 iterations.\n",
      "└ @ FEMMaterials /home/tero/.julia/packages/FEMMaterials/lDZpI/src/mecamatso.jl:381\n",
      "┌ Info: Solving for time 0.6, iteration # 1\n",
      "└ @ FEMMaterials /home/tero/.julia/packages/FEMMaterials/lDZpI/src/mecamatso.jl:333\n",
      "┌ Info: Inf\n",
      "└ @ FEMMaterials /home/tero/.julia/packages/FEMMaterials/lDZpI/src/mecamatso.jl:379\n",
      "┌ Info: Solving for time 0.6, iteration # 2\n",
      "└ @ FEMMaterials /home/tero/.julia/packages/FEMMaterials/lDZpI/src/mecamatso.jl:333\n",
      "┌ Info: 2.274746684520826e-23\n",
      "└ @ FEMMaterials /home/tero/.julia/packages/FEMMaterials/lDZpI/src/mecamatso.jl:379\n",
      "┌ Info: Solution converged in 2 iterations.\n",
      "└ @ FEMMaterials /home/tero/.julia/packages/FEMMaterials/lDZpI/src/mecamatso.jl:381\n",
      "┌ Info: Solving for time 0.65, iteration # 1\n",
      "└ @ FEMMaterials /home/tero/.julia/packages/FEMMaterials/lDZpI/src/mecamatso.jl:333\n",
      "┌ Info: Inf\n",
      "└ @ FEMMaterials /home/tero/.julia/packages/FEMMaterials/lDZpI/src/mecamatso.jl:379\n",
      "┌ Info: Solving for time 0.65, iteration # 2\n",
      "└ @ FEMMaterials /home/tero/.julia/packages/FEMMaterials/lDZpI/src/mecamatso.jl:333\n",
      "┌ Info: 1.8599156073254827e-21\n",
      "└ @ FEMMaterials /home/tero/.julia/packages/FEMMaterials/lDZpI/src/mecamatso.jl:379\n",
      "┌ Info: Solution converged in 2 iterations.\n",
      "└ @ FEMMaterials /home/tero/.julia/packages/FEMMaterials/lDZpI/src/mecamatso.jl:381\n",
      "┌ Info: Solving for time 0.7, iteration # 1\n",
      "└ @ FEMMaterials /home/tero/.julia/packages/FEMMaterials/lDZpI/src/mecamatso.jl:333\n",
      "┌ Info: Inf\n",
      "└ @ FEMMaterials /home/tero/.julia/packages/FEMMaterials/lDZpI/src/mecamatso.jl:379\n",
      "┌ Info: Solving for time 0.7, iteration # 2\n",
      "└ @ FEMMaterials /home/tero/.julia/packages/FEMMaterials/lDZpI/src/mecamatso.jl:333\n",
      "┌ Info: 2.3161057151484775e-23\n",
      "└ @ FEMMaterials /home/tero/.julia/packages/FEMMaterials/lDZpI/src/mecamatso.jl:379\n"
     ]
    },
    {
     "name": "stderr",
     "output_type": "stream",
     "text": [
      "┌ Info: Solution converged in 2 iterations.\n",
      "└ @ FEMMaterials /home/tero/.julia/packages/FEMMaterials/lDZpI/src/mecamatso.jl:381\n",
      "┌ Info: Solving for time 0.75, iteration # 1\n",
      "└ @ FEMMaterials /home/tero/.julia/packages/FEMMaterials/lDZpI/src/mecamatso.jl:333\n",
      "┌ Info: Inf\n",
      "└ @ FEMMaterials /home/tero/.julia/packages/FEMMaterials/lDZpI/src/mecamatso.jl:379\n",
      "┌ Info: Solving for time 0.75, iteration # 2\n",
      "└ @ FEMMaterials /home/tero/.julia/packages/FEMMaterials/lDZpI/src/mecamatso.jl:333\n",
      "┌ Info: 1.8599156073254827e-21\n",
      "└ @ FEMMaterials /home/tero/.julia/packages/FEMMaterials/lDZpI/src/mecamatso.jl:379\n",
      "┌ Info: Solution converged in 2 iterations.\n",
      "└ @ FEMMaterials /home/tero/.julia/packages/FEMMaterials/lDZpI/src/mecamatso.jl:381\n",
      "┌ Info: Solving for time 0.8, iteration # 1\n",
      "└ @ FEMMaterials /home/tero/.julia/packages/FEMMaterials/lDZpI/src/mecamatso.jl:333\n",
      "┌ Info: Inf\n",
      "└ @ FEMMaterials /home/tero/.julia/packages/FEMMaterials/lDZpI/src/mecamatso.jl:379\n",
      "┌ Info: Solving for time 0.8, iteration # 2\n",
      "└ @ FEMMaterials /home/tero/.julia/packages/FEMMaterials/lDZpI/src/mecamatso.jl:333\n",
      "┌ Info: 2.5229008682867344e-23\n",
      "└ @ FEMMaterials /home/tero/.julia/packages/FEMMaterials/lDZpI/src/mecamatso.jl:379\n",
      "┌ Info: Solution converged in 2 iterations.\n",
      "└ @ FEMMaterials /home/tero/.julia/packages/FEMMaterials/lDZpI/src/mecamatso.jl:381\n",
      "┌ Info: Solving for time 0.85, iteration # 1\n",
      "└ @ FEMMaterials /home/tero/.julia/packages/FEMMaterials/lDZpI/src/mecamatso.jl:333\n",
      "┌ Info: Inf\n",
      "└ @ FEMMaterials /home/tero/.julia/packages/FEMMaterials/lDZpI/src/mecamatso.jl:379\n",
      "┌ Info: Solving for time 0.85, iteration # 2\n",
      "└ @ FEMMaterials /home/tero/.julia/packages/FEMMaterials/lDZpI/src/mecamatso.jl:333\n",
      "┌ Info: 1.865705871613354e-21\n",
      "└ @ FEMMaterials /home/tero/.julia/packages/FEMMaterials/lDZpI/src/mecamatso.jl:379\n",
      "┌ Info: Solution converged in 2 iterations.\n",
      "└ @ FEMMaterials /home/tero/.julia/packages/FEMMaterials/lDZpI/src/mecamatso.jl:381\n",
      "┌ Info: Solving for time 0.9, iteration # 1\n",
      "└ @ FEMMaterials /home/tero/.julia/packages/FEMMaterials/lDZpI/src/mecamatso.jl:333\n",
      "┌ Info: Inf\n",
      "└ @ FEMMaterials /home/tero/.julia/packages/FEMMaterials/lDZpI/src/mecamatso.jl:379\n",
      "┌ Info: Solving for time 0.9, iteration # 2\n",
      "└ @ FEMMaterials /home/tero/.julia/packages/FEMMaterials/lDZpI/src/mecamatso.jl:333\n",
      "┌ Info: 1.943874439499615e-23\n",
      "└ @ FEMMaterials /home/tero/.julia/packages/FEMMaterials/lDZpI/src/mecamatso.jl:379\n",
      "┌ Info: Solution converged in 2 iterations.\n",
      "└ @ FEMMaterials /home/tero/.julia/packages/FEMMaterials/lDZpI/src/mecamatso.jl:381\n",
      "┌ Info: Solving for time 0.95, iteration # 1\n",
      "└ @ FEMMaterials /home/tero/.julia/packages/FEMMaterials/lDZpI/src/mecamatso.jl:333\n",
      "┌ Info: Inf\n",
      "└ @ FEMMaterials /home/tero/.julia/packages/FEMMaterials/lDZpI/src/mecamatso.jl:379\n",
      "┌ Info: Solving for time 0.95, iteration # 2\n",
      "└ @ FEMMaterials /home/tero/.julia/packages/FEMMaterials/lDZpI/src/mecamatso.jl:333\n",
      "┌ Info: 1.8694281843698425e-21\n",
      "└ @ FEMMaterials /home/tero/.julia/packages/FEMMaterials/lDZpI/src/mecamatso.jl:379\n",
      "┌ Info: Solution converged in 2 iterations.\n",
      "└ @ FEMMaterials /home/tero/.julia/packages/FEMMaterials/lDZpI/src/mecamatso.jl:381\n",
      "┌ Info: Solving for time 1.0, iteration # 1\n",
      "└ @ FEMMaterials /home/tero/.julia/packages/FEMMaterials/lDZpI/src/mecamatso.jl:333\n",
      "┌ Info: Inf\n",
      "└ @ FEMMaterials /home/tero/.julia/packages/FEMMaterials/lDZpI/src/mecamatso.jl:379\n",
      "┌ Info: Solving for time 1.0, iteration # 2\n",
      "└ @ FEMMaterials /home/tero/.julia/packages/FEMMaterials/lDZpI/src/mecamatso.jl:333\n",
      "┌ Info: 7.031035206700735e-24\n",
      "└ @ FEMMaterials /home/tero/.julia/packages/FEMMaterials/lDZpI/src/mecamatso.jl:379\n",
      "┌ Info: Solution converged in 2 iterations.\n",
      "└ @ FEMMaterials /home/tero/.julia/packages/FEMMaterials/lDZpI/src/mecamatso.jl:381\n",
      "┌ Info: Simulation step ready.\n",
      "└ @ FEMMaterials /home/tero/.julia/packages/FEMMaterials/lDZpI/src/mecamatso.jl:401\n"
     ]
    }
   ],
   "source": [
    "add_problems!(analysis, beam, trac, bc)\n",
    "run!(analysis)\n",
    "close(xdmf)"
   ]
  },
  {
   "cell_type": "markdown",
   "metadata": {
    "slideshow": {
     "slide_type": "slide"
    }
   },
   "source": [
    "# Thank you for your attention!"
   ]
  }
 ],
 "metadata": {
  "kernelspec": {
   "display_name": "Julia 1.2.0",
   "language": "julia",
   "name": "julia-1.2"
  },
  "language_info": {
   "file_extension": ".jl",
   "mimetype": "application/julia",
   "name": "julia",
   "version": "1.2.0"
  }
 },
 "nbformat": 4,
 "nbformat_minor": 2
}
