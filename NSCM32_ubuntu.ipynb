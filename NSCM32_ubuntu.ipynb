{
 "cells": [
  {
   "cell_type": "markdown",
   "metadata": {
    "slideshow": {
     "slide_type": "slide"
    }
   },
   "source": [
    "# NSCM 32\n",
    "\n",
    "\n",
    "Tero Frondelius, Thomas Helfer, Ivan Yashchuk, Joona Vaara, and Anssi Laukkanen\n",
    "\n",
    "\n",
    "1. University of Oulu, firstname.lastname@oulu.fi\n",
    "2. VTT Technical Research Centre of Finland, firstname.lastname@vtt.fi\n",
    "3. Wärtsilä R&D and Engineering, firstname.lastname@wartsila.com \n",
    "4. CEA, DEN, DEC, France, thomas.helfer@cea.fr "
   ]
  },
  {
   "cell_type": "code",
   "execution_count": null,
   "metadata": {
    "slideshow": {
     "slide_type": "slide"
    }
   },
   "outputs": [],
   "source": [
    "norton = raw\"\"\"\n",
    "@DSL Implicit;\n",
    "@Author Thomas Helfer;\n",
    "@Date 3 / 08 / 2018;\n",
    "@Behaviour Norton;\n",
    "@Description {\n",
    "  \"This file implements the Norton law \"\n",
    "  \"using the StandardElastoViscoplasticity brick\"\n",
    "}\n",
    "\n",
    "@ModellingHypotheses{\".+\"};\n",
    "@Epsilon 1.e-16;\n",
    "\n",
    "@Brick StandardElastoViscoPlasticity{\n",
    "  stress_potential : \"Hooke\" {young_modulus : 150e6, poisson_ratio : 0.3},\n",
    "  inelastic_flow : \"Norton\" {criterion : \"Mises\", A : 8.e-67, n : 8.2, K : 1}\n",
    "};\n",
    "\"\"\";"
   ]
  },
  {
   "cell_type": "code",
   "execution_count": null,
   "metadata": {
    "slideshow": {
     "slide_type": "slide"
    }
   },
   "outputs": [],
   "source": [
    "mfront_fn = \"norton.mfront\"\n",
    "open(mfront_fn,\"w\") do fil\n",
    "    write(fil,norton)\n",
    "end"
   ]
  },
  {
   "cell_type": "code",
   "execution_count": null,
   "metadata": {
    "slideshow": {
     "slide_type": "slide"
    }
   },
   "outputs": [],
   "source": [
    "cur_dir = pwd()\n",
    "pkg_dir = dirname(Base.find_package(\"MFrontInterface\"))\n",
    "lib_dir = joinpath(pkg_dir,\"..\",\"deps\",\"usr\",\"lib\")\n",
    "home_dir = joinpath(pkg_dir,\"..\",\"deps\",\"usr\")\n",
    "bin_dir = joinpath(pkg_dir,\"..\",\"deps\",\"usr\",\"bin\")\n",
    "cur_path = ENV[\"PATH\"]"
   ]
  },
  {
   "cell_type": "code",
   "execution_count": null,
   "metadata": {
    "slideshow": {
     "slide_type": "slide"
    }
   },
   "outputs": [],
   "source": [
    "envfil = \"\"\"\n",
    "#!/bin/bash\n",
    "export TFELHOME=$home_dir\n",
    "export MGISHOME=$home_dir\n",
    "export LD_LIBRARY_PATH=$lib_dir\n",
    "export PATH=$bin_dir:$cur_path\n",
    "mfront --install-path=$cur_dir --obuild --interface=generic $mfront_fn\n",
    "patchelf --set-rpath $lib_dir src/libBehaviour.so\n",
    "\"\"\"\n",
    "open(\"build.sh\",\"w\") do fil\n",
    "    write(fil,envfil)\n",
    "end"
   ]
  },
  {
   "cell_type": "code",
   "execution_count": null,
   "metadata": {
    "slideshow": {
     "slide_type": "slide"
    }
   },
   "outputs": [],
   "source": [
    "chmod(\"build.sh\",0o777)\n",
    "run(`./build.sh`)"
   ]
  },
  {
   "cell_type": "code",
   "execution_count": null,
   "metadata": {
    "slideshow": {
     "slide_type": "slide"
    }
   },
   "outputs": [],
   "source": [
    "using MFrontInterface, FEMMaterials, Plots\n",
    "mgis_bv = MFrontInterface.behaviour"
   ]
  },
  {
   "cell_type": "code",
   "execution_count": null,
   "metadata": {
    "slideshow": {
     "slide_type": "slide"
    }
   },
   "outputs": [],
   "source": [
    "function MFrontMaterialFunction()\n",
    "    lib_path = \"src/libBehaviour.so\"\n",
    "    behaviour_name = \"Norton\"\n",
    "    hypothesis = mgis_bv.Tridimensional\n",
    "\n",
    "    behaviour = load(lib_path, behaviour_name, hypothesis)\n",
    "    behaviour_data = BehaviourData(behaviour)\n",
    "\n",
    "    ext_variable_names = [mgis_bv.get_name(mgis_bv.get_external_state_variables(behaviour)[i]) for i in 1:mgis_bv.length(mgis_bv.get_external_state_variables(behaviour))]\n",
    "    ext_variable_values = zeros(length(ext_variable_names))\n",
    "    ext_vatiable_state = MFrontExternalVariableState(names=ext_variable_names, values=ext_variable_values)\n",
    "\n",
    "    return MFrontMaterial(behaviour=behaviour, behaviour_data=behaviour_data, external_variables=ext_vatiable_state)\n",
    "end"
   ]
  },
  {
   "cell_type": "code",
   "execution_count": null,
   "metadata": {
    "slideshow": {
     "slide_type": "slide"
    }
   },
   "outputs": [],
   "source": [
    "e11 = 0.0001*vcat(Array(range(0, stop=1.5e-2, length=30)), Array(range(1.5e-2, stop=-1.5e-2, length=30)), Array(range(-1.5e-2, stop=3e-2, length=40)))\n",
    "e22 = -e11/2\n",
    "e33 = e22\n",
    "strains = [[e11[i], e22[i], e33[i], 0.0, 0.0, 0.0] for i in 1:100]"
   ]
  },
  {
   "cell_type": "code",
   "execution_count": null,
   "metadata": {
    "slideshow": {
     "slide_type": "slide"
    }
   },
   "outputs": [],
   "source": [
    "plot([e11,e22,e33], labels=[\"e11\",\"e22\",\"e33\"], xlabel=\"Time step\", ylabel=\"Strain\", grid=true)"
   ]
  },
  {
   "cell_type": "code",
   "execution_count": null,
   "metadata": {
    "slideshow": {
     "slide_type": "slide"
    }
   },
   "outputs": [],
   "source": [
    "mat = MFrontMaterialFunction()\n",
    "sim = Simulator(mat)\n",
    "ts = 0.01:0.01:1.0\n",
    "FEMMaterials.initialize!(sim, strains, ts)\n",
    "FEMMaterials.run!(sim)"
   ]
  },
  {
   "cell_type": "code",
   "execution_count": null,
   "metadata": {
    "slideshow": {
     "slide_type": "skip"
    }
   },
   "outputs": [],
   "source": [
    "s11 = []; str11 = []\n",
    "for (stre, stra) in zip(sim.stresses,sim.strains)\n",
    "    push!(s11,stre[1])\n",
    "    push!(str11,stra[1])\n",
    "end"
   ]
  },
  {
   "cell_type": "code",
   "execution_count": null,
   "metadata": {
    "slideshow": {
     "slide_type": "slide"
    }
   },
   "outputs": [],
   "source": [
    "plot(ts,[[sim.stresses[i][j] for i=1:length(sim.stresses)] for j=1:3],xlabel=\"Time\", ylabel=\"Stresses\",labels=[\"S11\",\"S22\",\"S33\"])"
   ]
  },
  {
   "cell_type": "code",
   "execution_count": null,
   "metadata": {
    "slideshow": {
     "slide_type": "slide"
    }
   },
   "outputs": [],
   "source": [
    "download(\"https://raw.githubusercontent.com/JuliaFEM/FEMMaterials.jl/master/examples/data_3dbeam/plastic_beam.inp\", \"plastic_beam.inp\")"
   ]
  },
  {
   "cell_type": "code",
   "execution_count": null,
   "metadata": {},
   "outputs": [],
   "source": [
    "using JuliaFEM, Materials, FEMBase;\n",
    "import FEMMaterials: Continuum3D, MecaMatSo"
   ]
  },
  {
   "cell_type": "code",
   "execution_count": null,
   "metadata": {
    "slideshow": {
     "slide_type": "slide"
    }
   },
   "outputs": [],
   "source": [
    "mesh = abaqus_read_mesh(\"plastic_beam.inp\");\n",
    "beam_elements = create_elements(mesh, \"Body1\");\n",
    "bc_elements_1 = create_nodal_elements(mesh, \"BC1\");\n",
    "bc_elements_2 = create_nodal_elements(mesh, \"BC2\");\n",
    "trac_elements = create_surface_elements(mesh, \"PRESSURE\");"
   ]
  },
  {
   "cell_type": "code",
   "execution_count": null,
   "metadata": {
    "slideshow": {
     "slide_type": "slide"
    }
   },
   "outputs": [],
   "source": [
    "for j in 1:3\n",
    "    update!(bc_elements_1, \"displacement $j\", 0.0)\n",
    "end\n",
    "update!(bc_elements_2, \"displacement 1\", 0.0)\n",
    "update!(bc_elements_2, \"displacement 2\", 0.0)\n",
    "update!(trac_elements, \"surface pressure\", 0.0 => 0.00)\n",
    "update!(trac_elements, \"surface pressure\", 1.0 => 2.70e-4)\n",
    "trac = Problem(Elasticity, \"traction\", 3)\n",
    "bc = Problem(Dirichlet, \"fix displacement\", 3, \"displacement\")\n",
    "add_elements!(trac, trac_elements)\n",
    "add_elements!(bc, bc_elements_1)\n",
    "add_elements!(bc, bc_elements_2)"
   ]
  },
  {
   "cell_type": "code",
   "execution_count": null,
   "metadata": {
    "slideshow": {
     "slide_type": "skip"
    }
   },
   "outputs": [],
   "source": [
    "# These are IdealPlastic (Materials.jl) model parameters\n",
    "update!(beam_elements, \"youngs_modulus\", 200.0e3)\n",
    "update!(beam_elements, \"poissons_ratio\", 0.3)\n",
    "update!(beam_elements, \"yield_stress\", 100.0)"
   ]
  },
  {
   "cell_type": "code",
   "execution_count": null,
   "metadata": {
    "slideshow": {
     "slide_type": "slide"
    }
   },
   "outputs": [],
   "source": [
    "beam = Problem(Continuum3D, \"plastic beam\", 3)\n",
    "beam.properties.material_model = :(Main.MFrontMaterialFunction) #:IdealPlastic #\n",
    "add_elements!(beam, beam_elements)"
   ]
  },
  {
   "cell_type": "code",
   "execution_count": null,
   "metadata": {
    "slideshow": {
     "slide_type": "slide"
    }
   },
   "outputs": [],
   "source": [
    "analysis = Analysis(MecaMatSo, \"solve problem\")\n",
    "analysis.properties.max_iterations = 50\n",
    "analysis.properties.t0 = 0.0\n",
    "analysis.properties.t1 = 1.0\n",
    "analysis.properties.dt = 0.05\n",
    "temperature = 293.15\n",
    "update!(beam_elements, \"external_variables\", [temperature])"
   ]
  },
  {
   "cell_type": "code",
   "execution_count": null,
   "metadata": {
    "slideshow": {
     "slide_type": "slide"
    }
   },
   "outputs": [],
   "source": [
    "xdmf = Xdmf(\"3dbeam_results_output\"; overwrite=true)\n",
    "add_results_writer!(analysis, xdmf)"
   ]
  },
  {
   "cell_type": "code",
   "execution_count": null,
   "metadata": {
    "scrolled": true,
    "slideshow": {
     "slide_type": "slide"
    }
   },
   "outputs": [],
   "source": [
    "add_problems!(analysis, beam, trac, bc)\n",
    "run!(analysis)\n",
    "close(xdmf)"
   ]
  },
  {
   "cell_type": "markdown",
   "metadata": {
    "slideshow": {
     "slide_type": "slide"
    }
   },
   "source": [
    "# Thank you for your attention!"
   ]
  }
 ],
 "metadata": {
  "kernelspec": {
   "display_name": "Julia 1.2.0",
   "language": "julia",
   "name": "julia-1.2"
  },
  "language_info": {
   "file_extension": ".jl",
   "mimetype": "application/julia",
   "name": "julia",
   "version": "1.2.0"
  }
 },
 "nbformat": 4,
 "nbformat_minor": 2
}
